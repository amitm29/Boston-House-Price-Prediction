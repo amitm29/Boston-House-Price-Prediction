{
 "cells": [
  {
   "cell_type": "code",
   "execution_count": 1,
   "metadata": {},
   "outputs": [],
   "source": [
    "import numpy as np\n",
    "import matplotlib.pyplot as plt"
   ]
  },
  {
   "cell_type": "markdown",
   "metadata": {},
   "source": [
    "### Loading Dataset : Boston Dataset"
   ]
  },
  {
   "cell_type": "code",
   "execution_count": 2,
   "metadata": {},
   "outputs": [],
   "source": [
    "from sklearn.datasets import load_boston"
   ]
  },
  {
   "cell_type": "code",
   "execution_count": 3,
   "metadata": {},
   "outputs": [],
   "source": [
    "boston = load_boston()"
   ]
  },
  {
   "cell_type": "code",
   "execution_count": 4,
   "metadata": {},
   "outputs": [
    {
     "name": "stdout",
     "output_type": "stream",
     "text": [
      "(506, 13)\n",
      "(506,)\n"
     ]
    }
   ],
   "source": [
    "X = boston.data\n",
    "Y = boston.target\n",
    "print(X.shape)\n",
    "print(Y.shape)"
   ]
  },
  {
   "cell_type": "code",
   "execution_count": 5,
   "metadata": {},
   "outputs": [
    {
     "name": "stdout",
     "output_type": "stream",
     "text": [
      ".. _boston_dataset:\n",
      "\n",
      "Boston house prices dataset\n",
      "---------------------------\n",
      "\n",
      "**Data Set Characteristics:**  \n",
      "\n",
      "    :Number of Instances: 506 \n",
      "\n",
      "    :Number of Attributes: 13 numeric/categorical predictive. Median Value (attribute 14) is usually the target.\n",
      "\n",
      "    :Attribute Information (in order):\n",
      "        - CRIM     per capita crime rate by town\n",
      "        - ZN       proportion of residential land zoned for lots over 25,000 sq.ft.\n",
      "        - INDUS    proportion of non-retail business acres per town\n",
      "        - CHAS     Charles River dummy variable (= 1 if tract bounds river; 0 otherwise)\n",
      "        - NOX      nitric oxides concentration (parts per 10 million)\n",
      "        - RM       average number of rooms per dwelling\n",
      "        - AGE      proportion of owner-occupied units built prior to 1940\n",
      "        - DIS      weighted distances to five Boston employment centres\n",
      "        - RAD      index of accessibility to radial highways\n",
      "        - TAX      full-value property-tax rate per $10,000\n",
      "        - PTRATIO  pupil-teacher ratio by town\n",
      "        - B        1000(Bk - 0.63)^2 where Bk is the proportion of blacks by town\n",
      "        - LSTAT    % lower status of the population\n",
      "        - MEDV     Median value of owner-occupied homes in $1000's\n",
      "\n",
      "    :Missing Attribute Values: None\n",
      "\n",
      "    :Creator: Harrison, D. and Rubinfeld, D.L.\n",
      "\n",
      "This is a copy of UCI ML housing dataset.\n",
      "https://archive.ics.uci.edu/ml/machine-learning-databases/housing/\n",
      "\n",
      "\n",
      "This dataset was taken from the StatLib library which is maintained at Carnegie Mellon University.\n",
      "\n",
      "The Boston house-price data of Harrison, D. and Rubinfeld, D.L. 'Hedonic\n",
      "prices and the demand for clean air', J. Environ. Economics & Management,\n",
      "vol.5, 81-102, 1978.   Used in Belsley, Kuh & Welsch, 'Regression diagnostics\n",
      "...', Wiley, 1980.   N.B. Various transformations are used in the table on\n",
      "pages 244-261 of the latter.\n",
      "\n",
      "The Boston house-price data has been used in many machine learning papers that address regression\n",
      "problems.   \n",
      "     \n",
      ".. topic:: References\n",
      "\n",
      "   - Belsley, Kuh & Welsch, 'Regression diagnostics: Identifying Influential Data and Sources of Collinearity', Wiley, 1980. 244-261.\n",
      "   - Quinlan,R. (1993). Combining Instance-Based and Model-Based Learning. In Proceedings on the Tenth International Conference of Machine Learning, 236-243, University of Massachusetts, Amherst. Morgan Kaufmann.\n",
      "\n"
     ]
    }
   ],
   "source": [
    "desc = boston.DESCR\n",
    "print(desc)"
   ]
  },
  {
   "cell_type": "code",
   "execution_count": 6,
   "metadata": {},
   "outputs": [
    {
     "data": {
      "text/plain": [
       "array(['CRIM', 'ZN', 'INDUS', 'CHAS', 'NOX', 'RM', 'AGE', 'DIS', 'RAD',\n",
       "       'TAX', 'PTRATIO', 'B', 'LSTAT'], dtype='<U7')"
      ]
     },
     "execution_count": 6,
     "metadata": {},
     "output_type": "execute_result"
    }
   ],
   "source": [
    "boston.feature_names"
   ]
  },
  {
   "cell_type": "markdown",
   "metadata": {},
   "source": [
    "### Spliting into training and test data "
   ]
  },
  {
   "cell_type": "code",
   "execution_count": 7,
   "metadata": {},
   "outputs": [],
   "source": [
    "from sklearn.model_selection import train_test_split"
   ]
  },
  {
   "cell_type": "code",
   "execution_count": 8,
   "metadata": {},
   "outputs": [],
   "source": [
    "X_train, X_test, Y_train, Y_test = train_test_split(X,Y,test_size=0.15)"
   ]
  },
  {
   "cell_type": "code",
   "execution_count": 9,
   "metadata": {},
   "outputs": [
    {
     "name": "stdout",
     "output_type": "stream",
     "text": [
      "(430, 13)\n",
      "(76, 13)\n",
      "(430,)\n",
      "(76,)\n"
     ]
    }
   ],
   "source": [
    "print(X_train.shape)\n",
    "print(X_test.shape)\n",
    "print(Y_train.shape)\n",
    "print(Y_test.shape)"
   ]
  },
  {
   "cell_type": "markdown",
   "metadata": {},
   "source": [
    "## Using sklearn Linear Regression Model"
   ]
  },
  {
   "cell_type": "code",
   "execution_count": 10,
   "metadata": {},
   "outputs": [],
   "source": [
    "from sklearn.linear_model import LinearRegression"
   ]
  },
  {
   "cell_type": "code",
   "execution_count": 11,
   "metadata": {},
   "outputs": [],
   "source": [
    "lr = LinearRegression(normalize=True)"
   ]
  },
  {
   "cell_type": "code",
   "execution_count": 12,
   "metadata": {},
   "outputs": [
    {
     "name": "stdout",
     "output_type": "stream",
     "text": [
      "CPU times: user 8.63 ms, sys: 563 µs, total: 9.19 ms\n",
      "Wall time: 28.8 ms\n"
     ]
    },
    {
     "data": {
      "text/plain": [
       "LinearRegression(copy_X=True, fit_intercept=True, n_jobs=None, normalize=True)"
      ]
     },
     "execution_count": 12,
     "metadata": {},
     "output_type": "execute_result"
    }
   ],
   "source": [
    "%%time\n",
    "lr.fit(X_train,Y_train)"
   ]
  },
  {
   "cell_type": "code",
   "execution_count": 13,
   "metadata": {},
   "outputs": [
    {
     "data": {
      "text/plain": [
       "array([-1.10983614e-01,  4.32954596e-02,  5.94064325e-02,  2.64274253e+00,\n",
       "       -1.75628723e+01,  3.82813680e+00,  3.90513356e-03, -1.33087333e+00,\n",
       "        3.07914245e-01, -1.32277357e-02, -9.56782524e-01,  7.24043326e-03,\n",
       "       -5.35445786e-01])"
      ]
     },
     "execution_count": 13,
     "metadata": {},
     "output_type": "execute_result"
    }
   ],
   "source": [
    "lr.coef_"
   ]
  },
  {
   "cell_type": "code",
   "execution_count": 14,
   "metadata": {},
   "outputs": [
    {
     "data": {
      "text/plain": [
       "36.30710038987924"
      ]
     },
     "execution_count": 14,
     "metadata": {},
     "output_type": "execute_result"
    }
   ],
   "source": [
    "lr.intercept_"
   ]
  },
  {
   "cell_type": "code",
   "execution_count": 15,
   "metadata": {},
   "outputs": [
    {
     "data": {
      "text/plain": [
       "0.739204017201626"
      ]
     },
     "execution_count": 15,
     "metadata": {},
     "output_type": "execute_result"
    }
   ],
   "source": [
    "#Training Score\n",
    "lr.score(X_train,Y_train)"
   ]
  },
  {
   "cell_type": "code",
   "execution_count": 16,
   "metadata": {},
   "outputs": [
    {
     "data": {
      "text/plain": [
       "0.7338022334411732"
      ]
     },
     "execution_count": 16,
     "metadata": {},
     "output_type": "execute_result"
    }
   ],
   "source": [
    "#Testing Score\n",
    "lr.score(X_test, Y_test)"
   ]
  },
  {
   "cell_type": "markdown",
   "metadata": {},
   "source": [
    "# Creating model from scratch"
   ]
  },
  {
   "cell_type": "markdown",
   "metadata": {},
   "source": [
    "Different types of models for multivariate linear regression:-\n",
    "- Gradient Descent using matrices.\n",
    "- Gradient Descent without using matrices\n",
    "- Closed Form Solution\n",
    "- Locally Weighted Regression (LOWESS)"
   ]
  },
  {
   "cell_type": "code",
   "execution_count": 18,
   "metadata": {},
   "outputs": [],
   "source": [
    "# normalize the data\n",
    "X = (X-X.mean())/X.std()"
   ]
  },
  {
   "cell_type": "markdown",
   "metadata": {},
   "source": [
    "### Method 1 : G.D. using matrices"
   ]
  },
  {
   "cell_type": "code",
   "execution_count": 19,
   "metadata": {},
   "outputs": [],
   "source": [
    "def hypothesis(x,w,b):\n",
    "    return w.T@x + b\n",
    "\n",
    "def error(X,Y,w,b):\n",
    "    ones = np.ones((X.shape[0],1))\n",
    "    X_ = np.hstack((ones,X))\n",
    "    theta = np.vstack((np.array([b]),w))\n",
    "    return (0.5*np.sum((X_@theta - Y).T@(X_@theta - Y)))/X.shape[0]\n",
    "\n",
    "def gradient(X,Y,w,b):\n",
    "    grad0 = X@w - Y\n",
    "    grad = X.T@grad0\n",
    "    grad0 = np.sum(grad0)\n",
    "    return grad0/X.shape[0],grad/X.shape[0]\n",
    "\n",
    "def gradienDescent(X,Y,learning_rate=0.000001,threshold_error=0.0000000001,max_itr=100):\n",
    "    w = np.zeros((X.shape[1],1))\n",
    "    b = 0\n",
    "    itr = 0\n",
    "    err_list = []\n",
    "    while itr<max_itr:\n",
    "        itr += 1\n",
    "        g0,g = gradient(X,Y,w,b)\n",
    "        w = w - learning_rate*g\n",
    "        b = b - learning_rate*g0\n",
    "        e = error(X,Y,w,b)\n",
    "        err_list.append(e)\n",
    "        try:\n",
    "            if abs(err_list[-2]-e) <= threshold_error:\n",
    "                return w, err_list\n",
    "        except IndexError:\n",
    "            pass\n",
    "    return w, b, err_list"
   ]
  },
  {
   "cell_type": "code",
   "execution_count": 20,
   "metadata": {},
   "outputs": [
    {
     "name": "stdout",
     "output_type": "stream",
     "text": [
      "(430,)\n",
      "(430, 1)\n"
     ]
    }
   ],
   "source": [
    "print(Y_train.shape)\n",
    "Y_t = Y_train.reshape((-1,1))\n",
    "print(Y_t.shape)"
   ]
  },
  {
   "cell_type": "code",
   "execution_count": 21,
   "metadata": {},
   "outputs": [
    {
     "name": "stdout",
     "output_type": "stream",
     "text": [
      "CPU times: user 8min 7s, sys: 128 ms, total: 8min 7s\n",
      "Wall time: 4min 3s\n"
     ]
    }
   ],
   "source": [
    "%%time\n",
    "final_w, final_b, err_lst = gradienDescent(X_train,Y_t,max_itr=4000000)"
   ]
  },
  {
   "cell_type": "code",
   "execution_count": 22,
   "metadata": {},
   "outputs": [
    {
     "data": {
      "image/png": "[encoded data removed]",
      "text/plain": [
       "<Figure size 432x288 with 1 Axes>"
      ]
     },
     "metadata": {
      "needs_background": "light"
     },
     "output_type": "display_data"
    }
   ],
   "source": [
    "plt.plot(err_lst)\n",
    "plt.xlabel('Iterations')\n",
    "plt.ylabel('Error')\n",
    "plt.show()"
   ]
  },
  {
   "cell_type": "code",
   "execution_count": 23,
   "metadata": {},
   "outputs": [
    {
     "name": "stdout",
     "output_type": "stream",
     "text": [
      "[12.312270805122797, 12.31227076072237, 12.312270716322043, 12.31227067192182, 12.312270627521693, 12.31227058312167, 12.312270538721746, 12.312270494321917, 12.312270449922195, 12.312270405522577]\n"
     ]
    }
   ],
   "source": [
    "#error in last 10 iterations(epochs)\n",
    "print(err_lst[-10:])"
   ]
  },
  {
   "cell_type": "code",
   "execution_count": 24,
   "metadata": {},
   "outputs": [
    {
     "name": "stdout",
     "output_type": "stream",
     "text": [
      "Training Score 0.702964\n"
     ]
    }
   ],
   "source": [
    "from sklearn.metrics import r2_score\n",
    "\n",
    "Y_actual_train = Y_train\n",
    "Y_pred_train = np.zeros(Y_actual_train.shape)\n",
    "\n",
    "for i in range(X_train.shape[0]):\n",
    "    Y_pred_train[i] = hypothesis(X_train[i], final_w, final_b)\n",
    "print(\"Training Score %f\"%(r2_score(Y_actual_train, Y_pred_train)))"
   ]
  },
  {
   "cell_type": "code",
   "execution_count": 25,
   "metadata": {},
   "outputs": [
    {
     "name": "stdout",
     "output_type": "stream",
     "text": [
      "Testing Score 0.703785\n"
     ]
    }
   ],
   "source": [
    "from sklearn.metrics import r2_score\n",
    "\n",
    "Y_actual_test = Y_test\n",
    "Y_pred_test = np.zeros(Y_actual_test.shape)\n",
    "\n",
    "for i in range(X_test.shape[0]):\n",
    "    Y_pred_test[i] = hypothesis(X_test[i], final_w, final_b)\n",
    "print(\"Testing Score %f\"%(r2_score(Y_actual_test, Y_pred_test)))"
   ]
  },
  {
   "cell_type": "markdown",
   "metadata": {},
   "source": [
    "### Method 2 : G.D. without using matrices"
   ]
  },
  {
   "cell_type": "code",
   "execution_count": 26,
   "metadata": {},
   "outputs": [],
   "source": [
    "def hypothesis_(x,theta):\n",
    "    \n",
    "    a = np.array([1])\n",
    "    x = np.hstack((a,x))\n",
    "    #     return theta.T@x\n",
    "    y=0\n",
    "    for i in range(theta.shape[0]):\n",
    "        y += theta[i] * x[i]\n",
    "    return y\n",
    "        \n",
    "\n",
    "\n",
    "def error_(x,y,theta):\n",
    "    e = 0\n",
    "    m = x.shape[0]\n",
    "    for i in range(m):\n",
    "        h = hypothesis_(x[i],theta)\n",
    "        e += 0.5*(h - y[i])**2\n",
    "    return e/m\n",
    "\n",
    "def gradient_(x,y,theta):\n",
    "    grad = np.zeros((x.shape[1]+1,))\n",
    "    for i in range(x.shape[0]):\n",
    "        h = hypothesis_(x[i],theta)\n",
    "        grad[0] += (h - y[i])\n",
    "        for j in range(x.shape[1]):\n",
    "            grad[j+1] += (h - y[i])*x[i,j]\n",
    "    return grad/x.shape[0]\n",
    "\n",
    "def batch_gradient_(x,y,theta,batch_size=1):\n",
    "    grad = np.zeros((x.shape[1]+1,))\n",
    "    m = x.shape[0]\n",
    "    indices = np.arange(m)\n",
    "    np.random.shuffle(indices)\n",
    "    indices = indices[:batch_size]\n",
    "    for i in indices:\n",
    "        h = hypothesis_(x[i],theta)\n",
    "        grad[0] += (h - y[i])\n",
    "        for j in range(x.shape[1]):\n",
    "            grad[j+1] += (h - y[i])*x[i,j]\n",
    "    return grad/batch_size\n",
    "\n",
    "def gradientDescent_(x,y,learning_rate=0.000001, threshold_error=0.0000000001, max_itr=100):\n",
    "    theta = np.zeros((x.shape[1]+1,))\n",
    "    itr = 0\n",
    "    err_list = []\n",
    "    while itr<max_itr:\n",
    "        itr += 1\n",
    "        theta = theta - learning_rate*gradient_(x,y,theta)\n",
    "        e = error_(x,y,theta)\n",
    "        err_list.append(e)\n",
    "        try:\n",
    "            if abs(err_list[-2]-e) <= threshold_error:\n",
    "                return theta, err_list\n",
    "        except IndexError:\n",
    "            pass\n",
    "    return theta, err_list\n",
    "\n",
    "def gradientDescentMiniBatch_(x,y,learning_rate=0.000001, threshold_error=10, max_itr=100, batch_size=1):\n",
    "    theta = np.zeros((x.shape[1]+1,))\n",
    "    itr = 0\n",
    "    err_list = []\n",
    "    while itr<max_itr:\n",
    "        itr += 1\n",
    "        theta = theta - learning_rate*batch_gradient_(x,y,theta,batch_size)\n",
    "        e = error_(x,y,theta)\n",
    "        err_list.append(e)\n",
    "        try:\n",
    "            if np.mean(err_list[-10:])<threshold_error:\n",
    "                return theta, err_list\n",
    "        except IndexError:\n",
    "            pass\n",
    "    return theta, err_list"
   ]
  },
  {
   "cell_type": "code",
   "execution_count": 29,
   "metadata": {},
   "outputs": [
    {
     "name": "stdout",
     "output_type": "stream",
     "text": [
      "CPU times: user 19min 39s, sys: 7.85 s, total: 19min 47s\n",
      "Wall time: 19min 37s\n"
     ]
    }
   ],
   "source": [
    "%%time\n",
    "final_theta, error_list = gradientDescent_(X_train,Y_train,max_itr=100000)"
   ]
  },
  {
   "cell_type": "code",
   "execution_count": 30,
   "metadata": {},
   "outputs": [
    {
     "data": {
      "image/png": "[encoded data removed]",
      "text/plain": [
       "<Figure size 432x288 with 1 Axes>"
      ]
     },
     "metadata": {
      "needs_background": "light"
     },
     "output_type": "display_data"
    }
   ],
   "source": [
    "plt.plot(error_list)\n",
    "plt.xlabel('Iterations')\n",
    "plt.ylabel('Error')\n",
    "plt.show()"
   ]
  },
  {
   "cell_type": "code",
   "execution_count": 31,
   "metadata": {},
   "outputs": [
    {
     "name": "stdout",
     "output_type": "stream",
     "text": [
      "[22.380488855306965, 22.38046211725205, 22.380435379541627, 22.380408642175695, 22.38038190515423, 22.38035516847723, 22.380328432144683, 22.380301696156565, 22.3802749605129, 22.3802482252136]\n"
     ]
    }
   ],
   "source": [
    "#error in last 10 iterations(epochs)\n",
    "print(error_list[-10:])"
   ]
  },
  {
   "cell_type": "code",
   "execution_count": 32,
   "metadata": {},
   "outputs": [
    {
     "name": "stdout",
     "output_type": "stream",
     "text": [
      "Training Score 0.460072\n"
     ]
    }
   ],
   "source": [
    "Y_actual_train = Y_train\n",
    "Y_pred_train = np.zeros(Y_actual_train.shape)\n",
    "\n",
    "for i in range(X_train.shape[0]):\n",
    "    Y_pred_train[i] = hypothesis_(X_train[i], final_theta)\n",
    "print(\"Training Score %f\"%(r2_score(Y_actual_train, Y_pred_train)))"
   ]
  },
  {
   "cell_type": "code",
   "execution_count": 33,
   "metadata": {},
   "outputs": [
    {
     "name": "stdout",
     "output_type": "stream",
     "text": [
      "Testing Score 0.442603\n"
     ]
    }
   ],
   "source": [
    "Y_actual_test = Y_test\n",
    "Y_pred_test = np.zeros(Y_actual_test.shape)\n",
    "\n",
    "for i in range(X_test.shape[0]):\n",
    "    Y_pred_test[i] = hypothesis_(X_test[i], final_theta)\n",
    "print(\"Testing Score %f\"%(r2_score(Y_actual_test, Y_pred_test)))"
   ]
  },
  {
   "cell_type": "markdown",
   "metadata": {},
   "source": [
    "#### Mini-Batch G.D."
   ]
  },
  {
   "cell_type": "code",
   "execution_count": 34,
   "metadata": {},
   "outputs": [
    {
     "name": "stdout",
     "output_type": "stream",
     "text": [
      "CPU times: user 4.43 s, sys: 48.1 ms, total: 4.48 s\n",
      "Wall time: 4.4 s\n"
     ]
    }
   ],
   "source": [
    "%%time\n",
    "final_theta_mb, error_list_mb = gradientDescentMiniBatch_(X_train,Y_train,learning_rate=0.000001,max_itr=1000, batch_size=5)"
   ]
  },
  {
   "cell_type": "code",
   "execution_count": 35,
   "metadata": {},
   "outputs": [
    {
     "data": {
      "image/png": "[encoded data removed]",
      "text/plain": [
       "<Figure size 432x288 with 1 Axes>"
      ]
     },
     "metadata": {
      "needs_background": "light"
     },
     "output_type": "display_data"
    }
   ],
   "source": [
    "plt.plot(error_list_mb)\n",
    "plt.xlabel('Iterations')\n",
    "plt.ylabel('Error')\n",
    "plt.show()"
   ]
  },
  {
   "cell_type": "code",
   "execution_count": 36,
   "metadata": {},
   "outputs": [
    {
     "name": "stdout",
     "output_type": "stream",
     "text": [
      "[22.380488855306965, 22.38046211725205, 22.380435379541627, 22.380408642175695, 22.38038190515423, 22.38035516847723, 22.380328432144683, 22.380301696156565, 22.3802749605129, 22.3802482252136]\n"
     ]
    }
   ],
   "source": [
    "#error in last 10 iterations(epochs)\n",
    "print(error_list[-10:])"
   ]
  },
  {
   "cell_type": "code",
   "execution_count": 37,
   "metadata": {},
   "outputs": [
    {
     "name": "stdout",
     "output_type": "stream",
     "text": [
      "Training Score 0.047544\n"
     ]
    }
   ],
   "source": [
    "Y_actual_train = Y_train\n",
    "Y_pred_train = np.zeros(Y_actual_train.shape)\n",
    "\n",
    "for i in range(X_train.shape[0]):\n",
    "    Y_pred_train[i] = hypothesis_(X_train[i], final_theta_mb)\n",
    "print(\"Training Score %f\"%(r2_score(Y_actual_train, Y_pred_train)))"
   ]
  },
  {
   "cell_type": "markdown",
   "metadata": {},
   "source": [
    "### Method 3 : Closed Form Solution"
   ]
  },
  {
   "cell_type": "code",
   "execution_count": 38,
   "metadata": {},
   "outputs": [],
   "source": [
    "def getTheta(X,Y):\n",
    "    ones = np.ones((X.shape[0],1))\n",
    "    x = np.hstack((ones,X))\n",
    "    return np.linalg.pinv(x.T@x)@x.T@Y\n",
    "def hypothesis(x,theta):\n",
    "    \n",
    "    a = np.array([1])\n",
    "    x = np.hstack((a,x))\n",
    "    return theta.T@x"
   ]
  },
  {
   "cell_type": "code",
   "execution_count": 39,
   "metadata": {},
   "outputs": [
    {
     "name": "stdout",
     "output_type": "stream",
     "text": [
      "CPU times: user 2.31 ms, sys: 3.95 ms, total: 6.26 ms\n",
      "Wall time: 5.72 ms\n"
     ]
    }
   ],
   "source": [
    "%%time\n",
    "theta_cf = getTheta(X_train, Y_t)"
   ]
  },
  {
   "cell_type": "code",
   "execution_count": 40,
   "metadata": {},
   "outputs": [
    {
     "data": {
      "text/plain": [
       "(14, 1)"
      ]
     },
     "execution_count": 40,
     "metadata": {},
     "output_type": "execute_result"
    }
   ],
   "source": [
    "theta_cf.shape"
   ]
  },
  {
   "cell_type": "code",
   "execution_count": 41,
   "metadata": {},
   "outputs": [
    {
     "name": "stdout",
     "output_type": "stream",
     "text": [
      "Training Score 0.739204\n"
     ]
    }
   ],
   "source": [
    "Y_actual_train = Y_train\n",
    "Y_pred_train = np.zeros(Y_actual_train.shape)\n",
    "\n",
    "for i in range(X_train.shape[0]):\n",
    "    Y_pred_train[i] = hypothesis(X_train[i], theta_cf)\n",
    "print(\"Training Score %f\"%(r2_score(Y_actual_train, Y_pred_train)))"
   ]
  },
  {
   "cell_type": "code",
   "execution_count": 42,
   "metadata": {},
   "outputs": [
    {
     "name": "stdout",
     "output_type": "stream",
     "text": [
      "Training Score 0.733802\n"
     ]
    }
   ],
   "source": [
    "Y_actual_test = Y_test\n",
    "Y_pred_test = np.zeros(Y_actual_test.shape)\n",
    "\n",
    "for i in range(X_test.shape[0]):\n",
    "    Y_pred_test[i] = hypothesis(X_test[i], theta_cf)\n",
    "print(\"Training Score %f\"%(r2_score(Y_actual_test, Y_pred_test)))"
   ]
  },
  {
   "cell_type": "markdown",
   "metadata": {},
   "source": [
    "### Method 4 : Locally Weighted Regression (LOWESS)"
   ]
  },
  {
   "cell_type": "markdown",
   "metadata": {},
   "source": [
    "#### Without Bias"
   ]
  },
  {
   "cell_type": "code",
   "execution_count": 68,
   "metadata": {},
   "outputs": [],
   "source": [
    "def getW(query_x,X,tau=1):\n",
    "    M = X.shape[0]\n",
    "    W = np.eye(M)\n",
    "    x = query_x\n",
    "    for i in range(M):\n",
    "        W[i,i] = np.exp(((X[i]-x).T@(X[i]-x))/(-2*tau*tau))\n",
    "    return W\n",
    "\n",
    "def getTheta(X,Y,query_x,tau=1):\n",
    "    W = getW(query_x,X,tau)\n",
    "    #theta = ((X.W.XT)^-1).XT.W.Y\n",
    "    return np.linalg.pinv(X.T@(W@X))@X.T@(W@Y)\n",
    "\n",
    "def predict(query_x,X,Y,tau=1):\n",
    "    theta = getTheta(X,Y,query_x,tau)\n",
    "    return theta.T@query_x"
   ]
  },
  {
   "cell_type": "code",
   "execution_count": 69,
   "metadata": {},
   "outputs": [
    {
     "name": "stdout",
     "output_type": "stream",
     "text": [
      "Training Score 0.987632\n"
     ]
    }
   ],
   "source": [
    "Y_actual_train = Y_train\n",
    "Y_pred_train = np.zeros(Y_actual_train.shape)\n",
    "\n",
    "for i in range(X_train.shape[0]):\n",
    "    Y_pred_train[i] = predict(X_train[i],X_train,Y_train, tau=10)\n",
    "print(\"Training Score %f\"%(r2_score(Y_actual_train, Y_pred_train)))"
   ]
  },
  {
   "cell_type": "code",
   "execution_count": 70,
   "metadata": {},
   "outputs": [
    {
     "name": "stdout",
     "output_type": "stream",
     "text": [
      "Testing Score 0.755681\n"
     ]
    }
   ],
   "source": [
    "Y_actual_test = Y_test\n",
    "Y_pred_test = np.zeros(Y_actual_test.shape)\n",
    "\n",
    "for i in range(X_test.shape[0]):\n",
    "    Y_pred_test[i] = predict(X_test[i],X_train,Y_train, tau=10)\n",
    "print(\"Testing Score %f\"%(r2_score(Y_actual_test, Y_pred_test)))"
   ]
  },
  {
   "cell_type": "markdown",
   "metadata": {},
   "source": [
    "#### With Bias"
   ]
  },
  {
   "cell_type": "code",
   "execution_count": 71,
   "metadata": {},
   "outputs": [],
   "source": [
    "def getW(query_x,X,tau=1):\n",
    "    M = X.shape[0]\n",
    "    W = np.eye(M)\n",
    "    x = query_x\n",
    "    for i in range(M):\n",
    "        W[i,i] = np.exp(((X[i]-x).T@(X[i]-x))/(-2*tau*tau))\n",
    "    return W\n",
    "\n",
    "def getTheta(X,Y,query_x,tau=1):\n",
    "    ones = np.ones((X.shape[0],1))\n",
    "    X = np.hstack((ones,X))\n",
    "    W = getW(query_x,X,tau)\n",
    "    #theta = ((X.W.XT)^-1).XT.W.Y\n",
    "    return np.linalg.pinv(X.T@(W@X))@X.T@(W@Y)\n",
    "\n",
    "def predict(query_x,X,Y,tau=1):\n",
    "    a = np.array([1])\n",
    "    x = np.hstack((a,query_x))\n",
    "    theta = getTheta(X,Y,x,tau)\n",
    "    return theta.T@x"
   ]
  },
  {
   "cell_type": "code",
   "execution_count": 72,
   "metadata": {},
   "outputs": [
    {
     "name": "stdout",
     "output_type": "stream",
     "text": [
      "Training Score 0.987866\n"
     ]
    }
   ],
   "source": [
    "Y_actual_train = Y_train\n",
    "Y_pred_train = np.zeros(Y_actual_train.shape)\n",
    "\n",
    "for i in range(X_train.shape[0]):\n",
    "    Y_pred_train[i] = predict(X_train[i],X_train,Y_train, tau=10)\n",
    "print(\"Training Score %f\"%(r2_score(Y_actual_train, Y_pred_train)))"
   ]
  },
  {
   "cell_type": "code",
   "execution_count": 73,
   "metadata": {},
   "outputs": [
    {
     "name": "stdout",
     "output_type": "stream",
     "text": [
      "Testing Score 0.740095\n"
     ]
    }
   ],
   "source": [
    "Y_actual_test = Y_test\n",
    "Y_pred_test = np.zeros(Y_actual_test.shape)\n",
    "\n",
    "for i in range(X_test.shape[0]):\n",
    "    Y_pred_test[i] = predict(X_test[i],X_train,Y_train, tau=10)\n",
    "print(\"Testing Score %f\"%(r2_score(Y_actual_test, Y_pred_test)))"
   ]
  }
 ],
 "metadata": {
  "kernelspec": {
   "display_name": "Python 3",
   "language": "python",
   "name": "python3"
  },
  "language_info": {
   "codemirror_mode": {
    "name": "ipython",
    "version": 3
   },
   "file_extension": ".py",
   "mimetype": "text/x-python",
   "name": "python",
   "nbconvert_exporter": "python",
   "pygments_lexer": "ipython3",
   "version": "3.7.1"
  }
 },
 "nbformat": 4,
 "nbformat_minor": 2
}
